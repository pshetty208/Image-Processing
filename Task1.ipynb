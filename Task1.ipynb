{
 "cells": [
  {
   "cell_type": "code",
   "execution_count": 1,
   "metadata": {
    "executionInfo": {
     "elapsed": 4780,
     "status": "ok",
     "timestamp": 1707855903705,
     "user": {
      "displayName": "_-",
      "userId": "02722451658114651272"
     },
     "user_tz": -60
    },
    "id": "MOZeMQZSN66I"
   },
   "outputs": [],
   "source": [
    "import pandas as pd\n",
    "import numpy as np\n",
    "from tensorflow.keras.preprocessing import image_dataset_from_directory\n"
   ]
  },
  {
   "cell_type": "code",
   "execution_count": 2,
   "metadata": {
    "colab": {
     "base_uri": "https://localhost:8080/"
    },
    "executionInfo": {
     "elapsed": 41432,
     "status": "ok",
     "timestamp": 1707855945097,
     "user": {
      "displayName": "_-",
      "userId": "02722451658114651272"
     },
     "user_tz": -60
    },
    "id": "5BG58MtNCs9b",
    "outputId": "cd0aa1b9-b11c-481c-a80d-5654c66153c6"
   },
   "outputs": [
    {
     "name": "stdout",
     "output_type": "stream",
     "text": [
      "Mounted at /content/drive\n"
     ]
    }
   ],
   "source": [
    "from google.colab import drive\n",
    "drive.mount('/content/drive')\n"
   ]
  },
  {
   "cell_type": "code",
   "execution_count": 3,
   "metadata": {
    "executionInfo": {
     "elapsed": 55,
     "status": "ok",
     "timestamp": 1707855945099,
     "user": {
      "displayName": "_-",
      "userId": "02722451658114651272"
     },
     "user_tz": -60
    },
    "id": "1IBUk0vsCvuE"
   },
   "outputs": [],
   "source": [
    "# Example accessing a CSV file\n",
    "train_data_path = '/content/drive/MyDrive/Colab Notebooks/1_classification/Train/'\n",
    "test_path = '/content/drive/MyDrive/Colab Notebooks/1_classification/Test/'"
   ]
  },
  {
   "cell_type": "markdown",
   "metadata": {
    "id": "i4wsjN27YOE_"
   },
   "source": [
    "**DATA-LOAD**"
   ]
  },
  {
   "cell_type": "code",
   "execution_count": 13,
   "metadata": {
    "colab": {
     "base_uri": "https://localhost:8080/"
    },
    "executionInfo": {
     "elapsed": 1839,
     "status": "ok",
     "timestamp": 1707856940281,
     "user": {
      "displayName": "_-",
      "userId": "02722451658114651272"
     },
     "user_tz": -60
    },
    "id": "kpkN4WXUDrt_",
    "outputId": "f3bf1e58-4045-4e3f-e397-301be5d43e2c"
   },
   "outputs": [
    {
     "name": "stdout",
     "output_type": "stream",
     "text": [
      "Found 800 files belonging to 2 classes.\n",
      "Found 200 files belonging to 2 classes.\n"
     ]
    }
   ],
   "source": [
    "from tensorflow.keras.preprocessing.image import ImageDataGenerator\n",
    "import matplotlib.pyplot as plt\n",
    "\n",
    "\n",
    "# Create generators for test and ground truth data\n",
    "train_dataset = image_dataset_from_directory(\n",
    "    train_data_path,\n",
    "    batch_size=16,          # Batch size for training\n",
    "    image_size=(512, 512),  # Target image size              # Random seed for shuffling\n",
    ")\n",
    "\n",
    "# Create a validation dataset\n",
    "validation_dataset = image_dataset_from_directory(\n",
    "    test_path,\n",
    "    batch_size=16,\n",
    "    image_size=(512, 512),\n",
    "    shuffle=False  # No need to shuffle validation data\n",
    ")\n",
    "class_names = validation_dataset.class_names\n"
   ]
  },
  {
   "cell_type": "markdown",
   "metadata": {
    "id": "_BWqqOt9XBiU"
   },
   "source": []
  },
  {
   "cell_type": "markdown",
   "metadata": {
    "id": "aGKe8t0PG426"
   },
   "source": [
    "**MODEL**"
   ]
  },
  {
   "cell_type": "code",
   "execution_count": 5,
   "metadata": {
    "colab": {
     "base_uri": "https://localhost:8080/"
    },
    "executionInfo": {
     "elapsed": 255,
     "status": "ok",
     "timestamp": 1707855950782,
     "user": {
      "displayName": "_-",
      "userId": "02722451658114651272"
     },
     "user_tz": -60
    },
    "id": "gY7Bzz6XEEU1",
    "outputId": "1ef1c066-de2c-4d22-d5d2-aaf67e691dc2"
   },
   "outputs": [
    {
     "name": "stdout",
     "output_type": "stream",
     "text": [
      "Model: \"sequential\"\n",
      "_________________________________________________________________\n",
      " Layer (type)                Output Shape              Param #   \n",
      "=================================================================\n",
      " conv2d (Conv2D)             (None, 510, 510, 64)      1792      \n",
      "                                                                 \n",
      " max_pooling2d (MaxPooling2  (None, 255, 255, 64)      0         \n",
      " D)                                                              \n",
      "                                                                 \n",
      " conv2d_1 (Conv2D)           (None, 253, 253, 32)      18464     \n",
      "                                                                 \n",
      " max_pooling2d_1 (MaxPoolin  (None, 126, 126, 32)      0         \n",
      " g2D)                                                            \n",
      "                                                                 \n",
      " flatten (Flatten)           (None, 508032)            0         \n",
      "                                                                 \n",
      " dense (Dense)               (None, 1)                 508033    \n",
      "                                                                 \n",
      "=================================================================\n",
      "Total params: 528289 (2.02 MB)\n",
      "Trainable params: 528289 (2.02 MB)\n",
      "Non-trainable params: 0 (0.00 Byte)\n",
      "_________________________________________________________________\n"
     ]
    }
   ],
   "source": [
    "import tensorflow as tf\n",
    "\n",
    "\n",
    "model  = tf.keras.models.Sequential()\n",
    "model.add(tf.keras.layers.Conv2D(64,(3,3),activation='relu', input_shape=(512, 512, 3)))\n",
    "model.add(tf.keras.layers.MaxPooling2D(2, 2))\n",
    "model.add(tf.keras.layers.Conv2D(32,(3,3),activation='relu'))\n",
    "model.add(tf.keras.layers.MaxPooling2D(2, 2))\n",
    "# model.add(tf.keras.layers.Conv2D(32,(3,3),activation='relu'))\n",
    "# model.add(tf.keras.layers.MaxPooling2D(2, 2))\n",
    "model.add(tf.keras.layers.Flatten())\n",
    "model.add(tf.keras.layers.Dense(1,activation='sigmoid'))\n",
    "\n",
    "\n",
    "model.summary()\n",
    "\n"
   ]
  },
  {
   "cell_type": "code",
   "execution_count": 6,
   "metadata": {
    "executionInfo": {
     "elapsed": 131,
     "status": "ok",
     "timestamp": 1707855950786,
     "user": {
      "displayName": "_-",
      "userId": "02722451658114651272"
     },
     "user_tz": -60
    },
    "id": "OlcVjCGIiMaC"
   },
   "outputs": [],
   "source": [
    "from tensorflow.keras.optimizers import RMSprop\n",
    "\n",
    "model.compile(loss='binary_crossentropy',\n",
    "              optimizer=RMSprop(learning_rate=0.001),\n",
    "\n",
    "              metrics=['accuracy'])"
   ]
  },
  {
   "cell_type": "code",
   "execution_count": 16,
   "metadata": {
    "executionInfo": {
     "elapsed": 174,
     "status": "ok",
     "timestamp": 1707857627687,
     "user": {
      "displayName": "_-",
      "userId": "02722451658114651272"
     },
     "user_tz": -60
    },
    "id": "P1FT8pBWIouD"
   },
   "outputs": [],
   "source": [
    "from tensorflow.keras.callbacks import EarlyStopping\n",
    "\n",
    "# Define early stopping callback\n",
    "early_stopping = EarlyStopping(monitor='loss',  # Metric to monitor\n",
    "                               patience=5,         # Number of epochs with no improvement after which training will be stopped\n",
    "                               restore_best_weights=True)  # Restore model weights from the epoch with the best value of the monitored metric\n"
   ]
  },
  {
   "cell_type": "code",
   "execution_count": 17,
   "metadata": {
    "colab": {
     "base_uri": "https://localhost:8080/"
    },
    "executionInfo": {
     "elapsed": 359825,
     "status": "ok",
     "timestamp": 1707857987376,
     "user": {
      "displayName": "_-",
      "userId": "02722451658114651272"
     },
     "user_tz": -60
    },
    "id": "kHinuR5RkQYP",
    "outputId": "daf092e5-74b2-41e5-b4bf-3af6a36051e8"
   },
   "outputs": [
    {
     "name": "stdout",
     "output_type": "stream",
     "text": [
      "Epoch 1/50\n",
      "4/4 [==============================] - 58s 12s/step - loss: 0.2405 - accuracy: 0.9375\n",
      "Epoch 2/50\n",
      "4/4 [==============================] - 43s 11s/step - loss: 0.0930 - accuracy: 0.9844\n",
      "Epoch 3/50\n",
      "4/4 [==============================] - 46s 12s/step - loss: 0.0318 - accuracy: 1.0000\n",
      "Epoch 4/50\n",
      "4/4 [==============================] - 43s 10s/step - loss: 0.3282 - accuracy: 0.8750\n",
      "Epoch 5/50\n",
      "4/4 [==============================] - 41s 10s/step - loss: 11.7837 - accuracy: 0.6094\n",
      "Epoch 6/50\n",
      "4/4 [==============================] - 41s 11s/step - loss: 1.3713 - accuracy: 0.8125\n",
      "Epoch 7/50\n",
      "4/4 [==============================] - 42s 10s/step - loss: 0.3687 - accuracy: 0.8750\n",
      "Epoch 8/50\n",
      "4/4 [==============================] - 42s 10s/step - loss: 0.2501 - accuracy: 0.9219\n"
     ]
    }
   ],
   "source": [
    "history = model.fit(\n",
    "          train_dataset,\n",
    "\n",
    "      steps_per_epoch=4,\n",
    "      epochs=50,\n",
    "      verbose=1,\n",
    "          callbacks=[early_stopping])"
   ]
  },
  {
   "cell_type": "code",
   "execution_count": 19,
   "metadata": {
    "executionInfo": {
     "elapsed": 486,
     "status": "ok",
     "timestamp": 1707858906505,
     "user": {
      "displayName": "_-",
      "userId": "02722451658114651272"
     },
     "user_tz": -60
    },
    "id": "hD1qa3yxAV9m"
   },
   "outputs": [],
   "source": [
    "model.save('/content/drive/MyDrive/Colab Notebooks/id_card_classifier2.h5')"
   ]
  },
  {
   "cell_type": "code",
   "execution_count": null,
   "metadata": {
    "id": "DsRkPEjJHSeo"
   },
   "outputs": [],
   "source": [
    "from tensorflow.keras.models import load_model\n",
    "\n",
    "model = load_model('/content/drive/MyDrive/Colab Notebooks/id_card_classifier.h5')\n"
   ]
  },
  {
   "cell_type": "code",
   "execution_count": 18,
   "metadata": {
    "colab": {
     "base_uri": "https://localhost:8080/"
    },
    "executionInfo": {
     "elapsed": 164090,
     "status": "ok",
     "timestamp": 1707858604690,
     "user": {
      "displayName": "_-",
      "userId": "02722451658114651272"
     },
     "user_tz": -60
    },
    "id": "VaEnqpPTkk9y",
    "outputId": "b7ec2a09-e5db-46a3-a652-1c4051722dad"
   },
   "outputs": [
    {
     "name": "stdout",
     "output_type": "stream",
     "text": [
      "13/13 [==============================] - 44s 3s/step\n",
      "13/13 [==============================] - 43s 3s/step - loss: 0.2858 - accuracy: 0.9250\n",
      "Class Predictions: 97\n"
     ]
    }
   ],
   "source": [
    "predictions = model.predict(validation_dataset)\n",
    "\n",
    "\n",
    "# Get the class predictions (0 or 1 for binary classification)\n",
    "class_predictions = (predictions > 0.5).astype(int)\n",
    "validation_result = model.evaluate(validation_dataset)\n",
    "\n",
    "# Displaying the class predictions\n",
    "print(\"Class Predictions:\", (class_predictions.sum()))\n"
   ]
  },
  {
   "cell_type": "markdown",
   "metadata": {
    "id": "PDpz6oEZLPwk"
   },
   "source": [
    "# New Section"
   ]
  },
  {
   "cell_type": "code",
   "execution_count": 1,
   "metadata": {
    "colab": {
     "base_uri": "https://localhost:8080/",
     "height": 1000
    },
    "id": "JYNfbKrZJhE7",
    "outputId": "29416bf4-4110-4429-d7b1-c4e3e23dcae6"
   },
   "outputs": [
    {
     "ename": "NameError",
     "evalue": "name 'validation_dataset' is not defined",
     "output_type": "error",
     "traceback": [
      "\u001b[0;31m---------------------------------------------------------------------------\u001b[0m",
      "\u001b[0;31mNameError\u001b[0m                                 Traceback (most recent call last)",
      "Cell \u001b[0;32mIn[1], line 1\u001b[0m\n\u001b[0;32m----> 1\u001b[0m \u001b[38;5;28;01mfor\u001b[39;00m images, labels \u001b[38;5;129;01min\u001b[39;00m \u001b[43mvalidation_dataset\u001b[49m:\n\u001b[1;32m      2\u001b[0m     \u001b[38;5;66;03m# Predictions\u001b[39;00m\n\u001b[1;32m      3\u001b[0m     predictions \u001b[38;5;241m=\u001b[39m model\u001b[38;5;241m.\u001b[39mpredict(images)\n\u001b[1;32m      4\u001b[0m     class_predictions \u001b[38;5;241m=\u001b[39m (predictions \u001b[38;5;241m>\u001b[39m \u001b[38;5;241m0.5\u001b[39m)\u001b[38;5;241m.\u001b[39mastype(\u001b[38;5;28mint\u001b[39m)\n",
      "\u001b[0;31mNameError\u001b[0m: name 'validation_dataset' is not defined"
     ]
    }
   ],
   "source": [
    "for images, labels in validation_dataset:\n",
    "    # Predictions\n",
    "    predictions = model.predict(images)\n",
    "    class_predictions = (predictions > 0.5).astype(int)\n",
    "\n",
    "    # Iterate over the batch\n",
    "    for i in range(len(images)):\n",
    "        # Print the actual image and its prediction\n",
    "        print(\"Prediction:\", class_predictions[i])\n",
    "        print(\"Actual Image:\")\n",
    "        plt.imshow(images[i].numpy().astype(\"uint8\"))\n",
    "        plt.show()"
   ]
  },
  {
   "cell_type": "code",
   "execution_count": null,
   "metadata": {
    "colab": {
     "base_uri": "https://localhost:8080/"
    },
    "executionInfo": {
     "elapsed": 238,
     "status": "ok",
     "timestamp": 1707688201702,
     "user": {
      "displayName": "_-",
      "userId": "02722451658114651272"
     },
     "user_tz": -60
    },
    "id": "bsJhb5pmq3nB",
    "outputId": "628ac88e-5eb9-4442-877c-8bc83cfb12f6",
    "scrolled": true
   },
   "outputs": [
    {
     "name": "stdout",
     "output_type": "stream",
     "text": [
      "test Accuracy: 0.9350000023841858\n"
     ]
    }
   ],
   "source": [
    "print(\"test Accuracy:\", validation_result[1])"
   ]
  },
  {
   "cell_type": "markdown",
   "metadata": {
    "id": "KlL7n2omr7GK"
   },
   "source": [
    "# New Section"
   ]
  }
 ],
 "metadata": {
  "colab": {
   "provenance": []
  },
  "kernelspec": {
   "display_name": "Python 3 (ipykernel)",
   "language": "python",
   "name": "python3"
  },
  "language_info": {
   "codemirror_mode": {
    "name": "ipython",
    "version": 3
   },
   "file_extension": ".py",
   "mimetype": "text/x-python",
   "name": "python",
   "nbconvert_exporter": "python",
   "pygments_lexer": "ipython3",
   "version": "3.11.7"
  }
 },
 "nbformat": 4,
 "nbformat_minor": 1
}
