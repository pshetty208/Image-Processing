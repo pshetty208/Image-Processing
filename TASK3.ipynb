{
 "cells": [
  {
   "cell_type": "code",
   "execution_count": 11,
   "metadata": {
    "colab": {
     "base_uri": "https://localhost:8080/"
    },
    "id": "oOBQ5Pi5ydmv",
    "outputId": "c04568fb-39ec-4d3c-9922-a4b2fe682330"
   },
   "outputs": [
    {
     "name": "stdout",
     "output_type": "stream",
     "text": [
      "Drive already mounted at /content/drive; to attempt to forcibly remount, call drive.mount(\"/content/drive\", force_remount=True).\n"
     ]
    }
   ],
   "source": [
    "from google.colab import drive\n",
    "drive.mount('/content/drive')"
   ]
  },
  {
   "cell_type": "code",
   "execution_count": 12,
   "metadata": {
    "id": "VHDx4BgTzRPR"
   },
   "outputs": [],
   "source": [
    "image_folder = '/content/drive/MyDrive/Colab Notebooks/3_deskewing/'"
   ]
  },
  {
   "cell_type": "markdown",
   "metadata": {
    "id": "jKv4pEYdJlCJ"
   },
   "source": [
    "**Task 3**"
   ]
  },
  {
   "cell_type": "code",
   "execution_count": 1,
   "metadata": {
    "colab": {
     "base_uri": "https://localhost:8080/",
     "height": 1000
    },
    "id": "Xvxh4aftrSB7",
    "outputId": "40f05140-2bcc-47fb-bb22-3bec2c3c8016"
   },
   "outputs": [
    {
     "ename": "ModuleNotFoundError",
     "evalue": "No module named 'google.colab'",
     "output_type": "error",
     "traceback": [
      "\u001b[0;31m---------------------------------------------------------------------------\u001b[0m",
      "\u001b[0;31mModuleNotFoundError\u001b[0m                       Traceback (most recent call last)",
      "Cell \u001b[0;32mIn[1], line 3\u001b[0m\n\u001b[1;32m      1\u001b[0m \u001b[38;5;28;01mimport\u001b[39;00m \u001b[38;5;21;01mcv2\u001b[39;00m\n\u001b[1;32m      2\u001b[0m \u001b[38;5;28;01mimport\u001b[39;00m \u001b[38;5;21;01mos\u001b[39;00m\n\u001b[0;32m----> 3\u001b[0m \u001b[38;5;28;01mfrom\u001b[39;00m \u001b[38;5;21;01mgoogle\u001b[39;00m\u001b[38;5;21;01m.\u001b[39;00m\u001b[38;5;21;01mcolab\u001b[39;00m\u001b[38;5;21;01m.\u001b[39;00m\u001b[38;5;21;01mpatches\u001b[39;00m \u001b[38;5;28;01mimport\u001b[39;00m cv2_imshow\n\u001b[1;32m      4\u001b[0m \u001b[38;5;28;01mimport\u001b[39;00m \u001b[38;5;21;01mnumpy\u001b[39;00m \u001b[38;5;28;01mas\u001b[39;00m \u001b[38;5;21;01mnp\u001b[39;00m\n\u001b[1;32m      5\u001b[0m \u001b[38;5;28;01mfrom\u001b[39;00m \u001b[38;5;21;01mcollections\u001b[39;00m \u001b[38;5;28;01mimport\u001b[39;00m Counter\n",
      "\u001b[0;31mModuleNotFoundError\u001b[0m: No module named 'google.colab'"
     ]
    }
   ],
   "source": [
    "import cv2\n",
    "import os\n",
    "from google.colab.patches import cv2_imshow\n",
    "import numpy as np\n",
    "from collections import Counter\n",
    "\n",
    "def deskew_with_double_majority(image_path):\n",
    "    # Load the image\n",
    "    original_image = cv2.imread(image_path)\n",
    "    gray = cv2.cvtColor(original_image, cv2.COLOR_BGR2GRAY)\n",
    "\n",
    "    # Apply dilation and erosion\n",
    "    kernel = np.ones((25, 25), np.uint8)\n",
    "    dilation = cv2.dilate(gray, kernel, iterations=2)\n",
    "    erosion = cv2.erode(dilation, kernel, iterations=1)\n",
    "    new= erosion*gray\n",
    "\n",
    "\n",
    "    # Use Canny edge detection\n",
    "    edges = cv2.Canny(erosion, 50, 150, apertureSize=3)\n",
    "\n",
    "    # Apply Hough Line Transform\n",
    "    lines = cv2.HoughLines(edges, 1, np.pi / 180, 100)\n",
    "\n",
    "    if lines is None or len(lines) < 2:\n",
    "        raise ValueError(\"No lines detected for deskewing\")\n",
    "\n",
    "    # Extract angles from detected lines\n",
    "    angles = [line[0][1] for line in lines]\n",
    "\n",
    "    # First majority vote: Determine lines\n",
    "    line_votes = Counter(angles)\n",
    "    common_lines = line_votes.most_common(2)\n",
    "    majority_line = common_lines[0][0]\n",
    "\n",
    "    # Second majority vote: Vote on a common angle among the most important lines\n",
    "    important_lines = [line for line in lines if line[0][1] == majority_line]\n",
    "    important_angles = [line[0][1] for line in important_lines]\n",
    "\n",
    "    angle_votes = Counter(important_angles)\n",
    "    common_angles = angle_votes.most_common(2)\n",
    "    majority_angle = common_angles[0][0]\n",
    "\n",
    "    # Rotate the image to deskew it\n",
    "    (h, w) = original_image.shape[:2]\n",
    "    center = (w // 2, h // 2)\n",
    "    rotation_angle = np.degrees(majority_angle) - 90\n",
    "    M = cv2.getRotationMatrix2D(center, rotation_angle, 1.0)\n",
    "    deskewed_image = cv2.warpAffine(original_image, M, (w, h), flags=cv2.INTER_CUBIC, borderMode=cv2.BORDER_REPLICATE)\n",
    "    deskewed_image_gray = cv2.warpAffine(new, M, (w, h), flags=cv2.INTER_CUBIC, borderMode=cv2.BORDER_REPLICATE)\n",
    "\n",
    "    # Show the original and deskewed images\n",
    "    print(f\"Predicted Angle for {image_path}: {np.degrees(majority_angle):.2f} degrees\")\n",
    "    original_image=cv2.resize(original_image,(512, 512) )\n",
    "    deskewed_image=cv2.resize(deskewed_image,(512, 512) )\n",
    "    deskewed_image_gray =cv2.resize(deskewed_image_gray,(512, 512) )\n",
    "    print(\"Orignal Image==================================================================\")\n",
    "    cv2_imshow(original_image)\n",
    "    print(\"deskewed_image_using Filter==================================================\")\n",
    "    cv2_imshow(deskewed_image_gray)\n",
    "    print(\"deskewed_image_e===============================================================\")\n",
    "    cv2_imshow(deskewed_image)\n",
    "    cv2.waitKey(0)\n",
    "    cv2.destroyAllWindows()\n",
    "\n",
    "# Replace 'path/to/your/image/folder' with the actual path to your image folder\n",
    "image_folder = '/content/drive/MyDrive/Colab Notebooks/3_deskewing/'\n",
    "\n",
    "# Iterate through all files in the folder\n",
    "for filename in os.listdir(image_folder):\n",
    "    if filename.endswith(('.jpg', '.jpeg', '.png')):\n",
    "        image_path = os.path.join(image_folder, filename)\n",
    "        deskew_with_double_majority(image_path)\n",
    "        break\n",
    "\n"
   ]
  },
  {
   "cell_type": "markdown",
   "metadata": {
    "id": "IMebqK0tJjqZ"
   },
   "source": []
  }
 ],
 "metadata": {
  "colab": {
   "provenance": []
  },
  "kernelspec": {
   "display_name": "Python 3 (ipykernel)",
   "language": "python",
   "name": "python3"
  },
  "language_info": {
   "codemirror_mode": {
    "name": "ipython",
    "version": 3
   },
   "file_extension": ".py",
   "mimetype": "text/x-python",
   "name": "python",
   "nbconvert_exporter": "python",
   "pygments_lexer": "ipython3",
   "version": "3.11.7"
  }
 },
 "nbformat": 4,
 "nbformat_minor": 1
}
